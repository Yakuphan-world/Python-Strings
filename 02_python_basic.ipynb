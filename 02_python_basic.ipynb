{
  "cells": [
    {
      "cell_type": "code",
      "execution_count": 1,
      "metadata": {
        "colab": {
          "base_uri": "https://localhost:8080/"
        },
        "id": "2LSg5JOED2GU",
        "outputId": "2fc13d81-3735-4b66-c3bf-fb7a07c16ef4"
      },
      "outputs": [
        {
          "name": "stdout",
          "output_type": "stream",
          "text": [
            "1.satır\n",
            "2.satır\n"
          ]
        }
      ],
      "source": [
        "# Yorumlayıcı karakter\n",
        "# Bu karakterden sonra yazılanları Python yorumlamaz\n",
        "print(\"1.satır\")\n",
        "# 1. satır\n",
        "print(\"2.satır\") # 2.satır\n",
        "# 3. satır"
      ]
    },
    {
      "cell_type": "code",
      "execution_count": 2,
      "metadata": {
        "colab": {
          "base_uri": "https://localhost:8080/"
        },
        "id": "MIU8XIJKIE0Z",
        "outputId": "73456ee6-f86f-4e6d-bdd6-51fe3957a901"
      },
      "outputs": [
        {
          "name": "stdout",
          "output_type": "stream",
          "text": [
            "1.satır\n",
            "2.satır\n"
          ]
        }
      ],
      "source": [
        "\"\"\" -docstring\n",
        " Yorumlayıcı karakter\n",
        " Bu karakterden sonra yazılanları Python yorumlamaz\n",
        "\"\"\"\n",
        "print(\"1.satır\")\n",
        "# 1. satır\n",
        "print(\"2.satır\") # 2.satır\n",
        "# 3. satır"
      ]
    },
    {
      "cell_type": "code",
      "execution_count": null,
      "metadata": {
        "id": "ft7M6s5qIP1e"
      },
      "outputs": [],
      "source": [
        "\"\"\" docstring'ler program (modül) ya da fonksiyonu açıklayıcı\n",
        "metinlerdir\n",
        "\"\"\""
      ]
    },
    {
      "cell_type": "code",
      "execution_count": 3,
      "metadata": {
        "colab": {
          "base_uri": "https://localhost:8080/"
        },
        "id": "X0mFFydSIhVj",
        "outputId": "884848e8-1d7e-4300-9827-ffe0ab1abc9f"
      },
      "outputs": [
        {
          "name": "stdout",
          "output_type": "stream",
          "text": [
            "['False', 'None', 'True', 'and', 'as', 'assert', 'async', 'await', 'break', 'class', 'continue', 'def', 'del', 'elif', 'else', 'except', 'finally', 'for', 'from', 'global', 'if', 'import', 'in', 'is', 'lambda', 'nonlocal', 'not', 'or', 'pass', 'raise', 'return', 'try', 'while', 'with', 'yield']\n"
          ]
        }
      ],
      "source": [
        "import keyword\n",
        "def keys():\n",
        "    \"\"\"\n",
        "    keys() fonksiyonu Python dilinde değişken ismi\n",
        "    olarak kullanılamayacak ifadeleri ekrana yazar\n",
        "    \"\"\"\n",
        "    print(keyword.kwlist)\n",
        "\n",
        "# fonksiyonu çağırıyorum\n",
        "keys()"
      ]
    },
    {
      "cell_type": "code",
      "execution_count": 4,
      "metadata": {
        "colab": {
          "base_uri": "https://localhost:8080/",
          "height": 53
        },
        "id": "A5TmaCKqJBND",
        "outputId": "0ba1fa66-c1f7-415b-91e2-4f217791df01"
      },
      "outputs": [
        {
          "data": {
            "application/vnd.google.colaboratory.intrinsic+json": {
              "type": "string"
            },
            "text/plain": [
              "'\\n    keys() fonksiyonu Python dilinde değişken ismi\\n    olarak kullanılamayacak ifadeleri ekrana yazar\\n    '"
            ]
          },
          "execution_count": 4,
          "metadata": {},
          "output_type": "execute_result"
        }
      ],
      "source": [
        "keys.__doc__"
      ]
    },
    {
      "cell_type": "code",
      "execution_count": null,
      "metadata": {
        "id": "uN3DVc34JIQA"
      },
      "outputs": [],
      "source": [
        "# docstring metinlerine erişim için __doc__ ifadesi kullanılır."
      ]
    },
    {
      "cell_type": "code",
      "execution_count": 5,
      "metadata": {
        "colab": {
          "base_uri": "https://localhost:8080/",
          "height": 105
        },
        "id": "gObH5nHrJclS",
        "outputId": "76102b9d-449f-440d-f8c8-1b08ca979f6a"
      },
      "outputs": [
        {
          "data": {
            "application/vnd.google.colaboratory.intrinsic+json": {
              "type": "string"
            },
            "text/plain": [
              "\"print(value, ..., sep=' ', end='\\\\n', file=sys.stdout, flush=False)\\n\\nPrints the values to a stream, or to sys.stdout by default.\\nOptional keyword arguments:\\nfile:  a file-like object (stream); defaults to the current sys.stdout.\\nsep:   string inserted between values, default a space.\\nend:   string appended after the last value, default a newline.\\nflush: whether to forcibly flush the stream.\""
            ]
          },
          "execution_count": 5,
          "metadata": {},
          "output_type": "execute_result"
        }
      ],
      "source": [
        "print.__doc__"
      ]
    },
    {
      "cell_type": "code",
      "execution_count": 6,
      "metadata": {
        "colab": {
          "base_uri": "https://localhost:8080/"
        },
        "id": "tCdDGqf6Ji1j",
        "outputId": "7165a489-54d7-44dc-d022-bb2c76dd6833"
      },
      "outputs": [
        {
          "name": "stdout",
          "output_type": "stream",
          "text": [
            "Help on built-in function print in module builtins:\n",
            "\n",
            "print(...)\n",
            "    print(value, ..., sep=' ', end='\\n', file=sys.stdout, flush=False)\n",
            "    \n",
            "    Prints the values to a stream, or to sys.stdout by default.\n",
            "    Optional keyword arguments:\n",
            "    file:  a file-like object (stream); defaults to the current sys.stdout.\n",
            "    sep:   string inserted between values, default a space.\n",
            "    end:   string appended after the last value, default a newline.\n",
            "    flush: whether to forcibly flush the stream.\n",
            "\n"
          ]
        }
      ],
      "source": [
        "help(print)"
      ]
    },
    {
      "cell_type": "code",
      "execution_count": 7,
      "metadata": {
        "colab": {
          "base_uri": "https://localhost:8080/"
        },
        "id": "80vuI4ILJ7dS",
        "outputId": "fdbb073c-27d6-4ff0-e7b7-24b9a981612f"
      },
      "outputs": [
        {
          "name": "stdout",
          "output_type": "stream",
          "text": [
            "Forward raw_input to frontends\n",
            "\n",
            "        Raises\n",
            "        ------\n",
            "        StdinNotImplentedError if active frontend doesn't support stdin.\n",
            "        \n"
          ]
        }
      ],
      "source": [
        "print(input.__doc__)"
      ]
    },
    {
      "cell_type": "code",
      "execution_count": 8,
      "metadata": {
        "colab": {
          "base_uri": "https://localhost:8080/"
        },
        "id": "_COFp_BPKF6X",
        "outputId": "78aead39-9e20-490d-89dd-900ee5bafa9f"
      },
      "outputs": [
        {
          "name": "stdout",
          "output_type": "stream",
          "text": [
            "Help on method raw_input in module ipykernel.kernelbase:\n",
            "\n",
            "raw_input(prompt='') method of google.colab._kernel.Kernel instance\n",
            "    Forward raw_input to frontends\n",
            "    \n",
            "    Raises\n",
            "    ------\n",
            "    StdinNotImplentedError if active frontend doesn't support stdin.\n",
            "\n"
          ]
        }
      ],
      "source": [
        "help(input)"
      ]
    },
    {
      "cell_type": "code",
      "execution_count": 9,
      "metadata": {
        "colab": {
          "base_uri": "https://localhost:8080/",
          "height": 70
        },
        "id": "lDid82UmKSWL",
        "outputId": "1f5b3c56-d370-42eb-c352-f96c99fec96b"
      },
      "outputs": [
        {
          "data": {
            "application/vnd.google.colaboratory.intrinsic+json": {
              "type": "string"
            },
            "text/plain": [
              "\"Return the sum of a 'start' value (default: 0) plus an iterable of numbers\\n\\nWhen the iterable is empty, return the start value.\\nThis function is intended specifically for use with numeric values and may\\nreject non-numeric types.\""
            ]
          },
          "execution_count": 9,
          "metadata": {},
          "output_type": "execute_result"
        }
      ],
      "source": [
        "sum.__doc__"
      ]
    },
    {
      "cell_type": "code",
      "execution_count": 10,
      "metadata": {
        "colab": {
          "base_uri": "https://localhost:8080/"
        },
        "id": "slzd8-rcNjwp",
        "outputId": "6e2828f0-ef90-456f-8cf9-14b3e6d53d0d"
      },
      "outputs": [
        {
          "name": "stdout",
          "output_type": "stream",
          "text": [
            "Sefa\n",
            "36\n",
            "male\n"
          ]
        }
      ],
      "source": [
        "member1 = \"Sefa\"\n",
        "member1_age = 36\n",
        "member1_gender = \"male\"\n",
        "print(member1)\n",
        "print(member1_age)\n",
        "print(member1_gender)"
      ]
    },
    {
      "cell_type": "code",
      "execution_count": 11,
      "metadata": {
        "colab": {
          "base_uri": "https://localhost:8080/"
        },
        "id": "Vnsh44roOEvG",
        "outputId": "a6601f6d-6bae-4f80-ac08-b0ad30a7ad52"
      },
      "outputs": [
        {
          "name": "stdout",
          "output_type": "stream",
          "text": [
            "my_num\n",
            "your_number\n",
            "her_number\n"
          ]
        }
      ],
      "source": [
        "my_num = 15\n",
        "your_number= 22\n",
        "her_number=32\n",
        "print(\"my_num\")\n",
        "print(\"your_number\")\n",
        "print(\"her_number\")"
      ]
    },
    {
      "cell_type": "code",
      "execution_count": 12,
      "metadata": {
        "colab": {
          "base_uri": "https://localhost:8080/"
        },
        "id": "M923Hp_COHYZ",
        "outputId": "917b73c4-08d2-4320-d768-3900534e34e7"
      },
      "outputs": [
        {
          "name": "stdout",
          "output_type": "stream",
          "text": [
            "15\n",
            "22\n",
            "32\n"
          ]
        }
      ],
      "source": [
        "my_num = 15\n",
        "your_number = 22\n",
        "her_number = 32\n",
        "print(my_num)\n",
        "print(your_number)\n",
        "print(her_number)"
      ]
    },
    {
      "cell_type": "code",
      "execution_count": 13,
      "metadata": {
        "colab": {
          "base_uri": "https://localhost:8080/"
        },
        "id": "56znBvhvOryl",
        "outputId": "df44d344-3d2a-4516-b3cf-a7ca363dea90"
      },
      "outputs": [
        {
          "name": "stdout",
          "output_type": "stream",
          "text": [
            "30\n"
          ]
        }
      ],
      "source": [
        "my_age = 33\n",
        "your_age = 30\n",
        "my_age = your_age\n",
        "\n",
        "print(my_age)"
      ]
    },
    {
      "cell_type": "code",
      "execution_count": null,
      "metadata": {
        "id": "Pcku3oL-PV5w"
      },
      "outputs": [],
      "source": [
        "# Program içersinde değeri hiç değişmeyecek değişkenlere sabit (constant) denir.\n",
        "# PEP 8: Sabitler büyük harfle yazılır.\n",
        "MY_AGE = 33\n",
        "PI = 3.14"
      ]
    },
    {
      "cell_type": "code",
      "execution_count": 14,
      "metadata": {
        "colab": {
          "base_uri": "https://localhost:8080/",
          "height": 131
        },
        "id": "HxqwNBJyQLBn",
        "outputId": "b9b02482-0bb7-45dd-9de9-a6149d1896df"
      },
      "outputs": [
        {
          "ename": "SyntaxError",
          "evalue": "ignored",
          "output_type": "error",
          "traceback": [
            "\u001b[0;36m  File \u001b[0;32m\"<ipython-input-14-0480b7112779>\"\u001b[0;36m, line \u001b[0;32m2\u001b[0m\n\u001b[0;31m    not = 90\u001b[0m\n\u001b[0m        ^\u001b[0m\n\u001b[0;31mSyntaxError\u001b[0m\u001b[0;31m:\u001b[0m invalid syntax\n"
          ]
        }
      ],
      "source": [
        "# O dile ait keywords(anahtar kelimeler ) değişken ismi olarak kullanılmaz\n",
        "not = 90\n",
        "print(not)"
      ]
    },
    {
      "cell_type": "code",
      "execution_count": 15,
      "metadata": {
        "colab": {
          "base_uri": "https://localhost:8080/"
        },
        "id": "0ppF4Yo_QgA4",
        "outputId": "f363d121-b426-4b46-f0a1-faed70fa1770"
      },
      "outputs": [
        {
          "name": "stdout",
          "output_type": "stream",
          "text": [
            "['False', 'None', 'True', 'and', 'as', 'assert', 'async', 'await', 'break', 'class', 'continue', 'def', 'del', 'elif', 'else', 'except', 'finally', 'for', 'from', 'global', 'if', 'import', 'in', 'is', 'lambda', 'nonlocal', 'not', 'or', 'pass', 'raise', 'return', 'try', 'while', 'with', 'yield']\n"
          ]
        }
      ],
      "source": [
        "import keyword\n",
        "print(keyword.kwlist)"
      ]
    },
    {
      "cell_type": "code",
      "execution_count": 16,
      "metadata": {
        "colab": {
          "base_uri": "https://localhost:8080/"
        },
        "id": "v4l7W92jQqJV",
        "outputId": "5e01b6b0-2c52-4d5c-df16-de4c67d18277"
      },
      "outputs": [
        {
          "name": "stdout",
          "output_type": "stream",
          "text": [
            "90\n"
          ]
        }
      ],
      "source": [
        "Not = 90\n",
        "print(Not)\n",
        "# case sensitive (Büyük harf ile küçük harf farklı isimlendirilir)"
      ]
    },
    {
      "cell_type": "code",
      "execution_count": 17,
      "metadata": {
        "colab": {
          "base_uri": "https://localhost:8080/",
          "height": 131
        },
        "id": "AgKPaiMdTfdQ",
        "outputId": "7017bb15-b7f9-49ba-f448-eec3a7bda339"
      },
      "outputs": [
        {
          "ename": "SyntaxError",
          "evalue": "ignored",
          "output_type": "error",
          "traceback": [
            "\u001b[0;36m  File \u001b[0;32m\"<ipython-input-17-8772115b0102>\"\u001b[0;36m, line \u001b[0;32m1\u001b[0m\n\u001b[0;31m    2me = 67\u001b[0m\n\u001b[0m      ^\u001b[0m\n\u001b[0;31mSyntaxError\u001b[0m\u001b[0;31m:\u001b[0m invalid syntax\n"
          ]
        }
      ],
      "source": [
        "# Değişken isimleri rakamla başlayamaz ama aralarda, sonlarda kullanılabilir..\n",
        "2me = 67 \n",
        "print(2me)"
      ]
    },
    {
      "cell_type": "code",
      "execution_count": null,
      "metadata": {
        "id": "MiaDBQrAUPVf"
      },
      "outputs": [],
      "source": [
        "# _ hariç özel karakterler değişken ismi olarak kullanılamaz\n",
        "big boss = \"eric\"\n",
        "big-boss = \"eric\"\n",
        "ad soyad = \"ali koç\"\n",
        "$price = 34\n",
        "price$on = 34\n"
      ]
    },
    {
      "cell_type": "code",
      "execution_count": null,
      "metadata": {
        "id": "0nxIsIndUc7v"
      },
      "outputs": [],
      "source": [
        "# _ hariç özel karakterler değişken ismi olarak kullanılamaz\n",
        "# doğrusu:\n",
        "big_boss = \"eric\"\n",
        "ad_soyad = \"ali koç\""
      ]
    },
    {
      "cell_type": "code",
      "execution_count": null,
      "metadata": {
        "id": "5rQgDmLdU_SH"
      },
      "outputs": [],
      "source": [
        "# o dile keywordler değişken ismi olarak kullanılamaz\n",
        "None = \"\""
      ]
    },
    {
      "cell_type": "code",
      "execution_count": 18,
      "metadata": {
        "colab": {
          "base_uri": "https://localhost:8080/"
        },
        "id": "3Ge9YOFOWreZ",
        "outputId": "00b9aca7-ccf0-4cb1-ce14-96ef61577948"
      },
      "outputs": [
        {
          "name": "stdout",
          "output_type": "stream",
          "text": [
            "same\n",
            "same\n",
            "same\n"
          ]
        }
      ],
      "source": [
        "x = y = z = \"same\"\n",
        "\n",
        "print(x)\n",
        "print(y)\n",
        "print(z)"
      ]
    },
    {
      "cell_type": "code",
      "execution_count": 22,
      "metadata": {
        "colab": {
          "base_uri": "https://localhost:8080/",
          "height": 218
        },
        "id": "BZ0HBrLOYABe",
        "outputId": "703a0c16-083b-4ff7-cb83-96f5337b6981"
      },
      "outputs": [
        {
          "ename": "TypeError",
          "evalue": "ignored",
          "output_type": "error",
          "traceback": [
            "\u001b[0;31m---------------------------------------------------------------------------\u001b[0m",
            "\u001b[0;31mTypeError\u001b[0m                                 Traceback (most recent call last)",
            "\u001b[0;32m<ipython-input-22-aff54337cf76>\u001b[0m in \u001b[0;36m<module>\u001b[0;34m\u001b[0m\n\u001b[1;32m      7\u001b[0m \u001b[0msinan\u001b[0m \u001b[0;34m=\u001b[0m \u001b[0;36m34\u001b[0m    \u001b[0;31m# int\u001b[0m\u001b[0;34m\u001b[0m\u001b[0;34m\u001b[0m\u001b[0m\n\u001b[1;32m      8\u001b[0m \u001b[0;34m\u001b[0m\u001b[0m\n\u001b[0;32m----> 9\u001b[0;31m \u001b[0myas_toplam\u001b[0m \u001b[0;34m=\u001b[0m \u001b[0mmarry\u001b[0m \u001b[0;34m+\u001b[0m \u001b[0mbulend\u001b[0m \u001b[0;34m+\u001b[0m \u001b[0misabella\u001b[0m \u001b[0;34m+\u001b[0m \u001b[0msinan\u001b[0m\u001b[0;34m\u001b[0m\u001b[0;34m\u001b[0m\u001b[0m\n\u001b[0m\u001b[1;32m     10\u001b[0m \u001b[0mprint\u001b[0m\u001b[0;34m(\u001b[0m\u001b[0myas_toplam\u001b[0m\u001b[0;34m)\u001b[0m\u001b[0;34m\u001b[0m\u001b[0;34m\u001b[0m\u001b[0m\n",
            "\u001b[0;31mTypeError\u001b[0m: unsupported operand type(s) for +: 'int' and 'NoneType'"
          ]
        }
      ],
      "source": [
        "# Değerini o an bilmediğimiz değişkenlere başlangıç değeri olarak\n",
        "# None atanabilir.\n",
        "#değişken = değer(value/data)\n",
        "marry = 33    # int\n",
        "bulend = None # None verilerin tipi NoneType\n",
        "isabella = 46 # int\n",
        "sinan = 34    # int\n",
        "\n",
        "yas_toplam = marry + bulend + isabella + sinan\n",
        "print(yas_toplam)"
      ]
    },
    {
      "cell_type": "code",
      "execution_count": 20,
      "metadata": {
        "colab": {
          "base_uri": "https://localhost:8080/"
        },
        "id": "9RIzVcMAY0Al",
        "outputId": "8a03b9fc-c6a3-48ac-f615-ea14e6fab0c3"
      },
      "outputs": [
        {
          "name": "stdout",
          "output_type": "stream",
          "text": [
            "113\n"
          ]
        }
      ],
      "source": [
        "# Hepsi int tipinde ise\n",
        "# ve toplama işleminde etkisiz eleman değeri atanabilir.\n",
        "#değişken = değer(value/data)\n",
        "marry = 33      # int\n",
        "bulend = 0      # None verilerin tipi NoneType\n",
        "isabella = 46   # int\n",
        "sinan = 34      # int\n",
        "\n",
        "yas_toplam = marry + bulend + isabella + sinan\n",
        "print(yas_toplam)"
      ]
    },
    {
      "cell_type": "code",
      "execution_count": 23,
      "metadata": {
        "colab": {
          "base_uri": "https://localhost:8080/"
        },
        "id": "gb5tpAmFZeC5",
        "outputId": "c990d981-e006-4d4d-d270-6cef09816ec4"
      },
      "outputs": [
        {
          "name": "stdout",
          "output_type": "stream",
          "text": [
            "apple.com\n",
            "clarusway.com\n"
          ]
        }
      ],
      "source": [
        "website = \"apple.com\"\n",
        "print(website)\n",
        "website = \"clarusway.com\"\n",
        "print(website)"
      ]
    },
    {
      "cell_type": "code",
      "execution_count": 24,
      "metadata": {
        "colab": {
          "base_uri": "https://localhost:8080/"
        },
        "id": "FkyMTkbCZwBL",
        "outputId": "f38dc9fb-4d8a-4473-cd4e-fd1a16661452"
      },
      "outputs": [
        {
          "name": "stdout",
          "output_type": "stream",
          "text": [
            "clarusway.com\n"
          ]
        }
      ],
      "source": [
        "website = \"apple.com\"\n",
        "# print(website)\n",
        "website = \"clarusway.com\"\n",
        "print(website)"
      ]
    },
    {
      "cell_type": "code",
      "execution_count": 25,
      "metadata": {
        "colab": {
          "base_uri": "https://localhost:8080/"
        },
        "id": "B7s9kBinaUyg",
        "outputId": "d43d5c09-b984-4959-86ae-21bd709c52f4"
      },
      "outputs": [
        {
          "name": "stdout",
          "output_type": "stream",
          "text": [
            "33\n",
            "33\n",
            "15\n"
          ]
        }
      ],
      "source": [
        "x = 15\n",
        "y = 33\n",
        "z = x  # z = 15\n",
        "x = y  # x = 33\n",
        "\n",
        "print(x)\n",
        "print(y)\n",
        "print(z)"
      ]
    },
    {
      "cell_type": "code",
      "execution_count": 27,
      "metadata": {
        "colab": {
          "base_uri": "https://localhost:8080/"
        },
        "id": "OkA22xF5al0z",
        "outputId": "56b01123-2e31-4325-a9a7-6ec97571d3a6"
      },
      "outputs": [
        {
          "name": "stdout",
          "output_type": "stream",
          "text": [
            "33 15\n"
          ]
        }
      ],
      "source": [
        "#yer değiştirme (swap) işlemi: tüm dillerde geçerli\n",
        "x = 15\n",
        "y = 33\n",
        "# x ile y nin değeri nasıl yer değiştiririz?\n",
        "z = x\n",
        "x = y\n",
        "y = z # z geçici değişken kullanıldı\n",
        "\n",
        "print(x, y)"
      ]
    },
    {
      "cell_type": "code",
      "execution_count": 28,
      "metadata": {
        "colab": {
          "base_uri": "https://localhost:8080/"
        },
        "id": "EitVPwoIbUQO",
        "outputId": "5732006a-387f-4ff5-f36f-5d4089437afe"
      },
      "outputs": [
        {
          "name": "stdout",
          "output_type": "stream",
          "text": [
            "33 15\n"
          ]
        }
      ],
      "source": [
        "#yer değiştirme (swap) işlemi: pythonic metot\n",
        "x = 15\n",
        "y = 33\n",
        "# x ile y nin değeri nasıl yer değiştiririz?\n",
        "x, y = y, x\n",
        "\n",
        "print(x, y)"
      ]
    },
    {
      "cell_type": "code",
      "execution_count": 29,
      "metadata": {
        "colab": {
          "base_uri": "https://localhost:8080/"
        },
        "id": "qTLzv2ischZm",
        "outputId": "712f59ec-0b66-4f48-9a5a-91455a0ce6fc"
      },
      "outputs": [
        {
          "name": "stdout",
          "output_type": "stream",
          "text": [
            "berlinalamanyaavrupa\n"
          ]
        }
      ],
      "source": [
        "berlin = \"berlino\"\n",
        "baskent = \"berlin\"\n",
        "ulke = \"alamanya\"\n",
        "kita = \"avrupa\"\n",
        "toplam = baskent + ulke + kita # string birleştime\n",
        "\n",
        "print(toplam)\n",
        "#baskent = berlin #berlin isimli değişkenin içeriği baskent isimli değişkene aktarılır\n",
        "\n"
      ]
    },
    {
      "cell_type": "code",
      "execution_count": 31,
      "metadata": {
        "colab": {
          "base_uri": "https://localhost:8080/",
          "height": 236
        },
        "id": "8CU73NeJdLJc",
        "outputId": "9c7c7d38-7181-4831-b561-dbb76fb6e5a3"
      },
      "outputs": [
        {
          "ename": "NameError",
          "evalue": "ignored",
          "output_type": "error",
          "traceback": [
            "\u001b[0;31m---------------------------------------------------------------------------\u001b[0m",
            "\u001b[0;31mNameError\u001b[0m                                 Traceback (most recent call last)",
            "\u001b[0;32m<ipython-input-31-d3612fbfc506>\u001b[0m in \u001b[0;36m<module>\u001b[0;34m\u001b[0m\n\u001b[1;32m      2\u001b[0m \u001b[0mbaskent\u001b[0m \u001b[0;34m=\u001b[0m \u001b[0mberlin\u001b[0m\u001b[0;34m\u001b[0m\u001b[0;34m\u001b[0m\u001b[0m\n\u001b[1;32m      3\u001b[0m \u001b[0mulke\u001b[0m \u001b[0;34m=\u001b[0m \u001b[0;34m\"alamanya\"\u001b[0m\u001b[0;34m\u001b[0m\u001b[0;34m\u001b[0m\u001b[0m\n\u001b[0;32m----> 4\u001b[0;31m \u001b[0mkita\u001b[0m \u001b[0;34m=\u001b[0m \u001b[0mavrupa\u001b[0m\u001b[0;34m\u001b[0m\u001b[0;34m\u001b[0m\u001b[0m\n\u001b[0m\u001b[1;32m      5\u001b[0m \u001b[0mtoplam\u001b[0m \u001b[0;34m=\u001b[0m \u001b[0mbaskent\u001b[0m \u001b[0;34m+\u001b[0m \u001b[0mulke\u001b[0m \u001b[0;34m+\u001b[0m \u001b[0mkita\u001b[0m \u001b[0;31m# string birleştime\u001b[0m\u001b[0;34m\u001b[0m\u001b[0;34m\u001b[0m\u001b[0m\n\u001b[1;32m      6\u001b[0m \u001b[0;34m\u001b[0m\u001b[0m\n",
            "\u001b[0;31mNameError\u001b[0m: name 'avrupa' is not defined"
          ]
        }
      ],
      "source": [
        "berlin = \"berlino\"\n",
        "baskent = berlin\n",
        "ulke = alamanya\n",
        "kita = avrupa\n",
        "toplam = baskent + ulke + kita # string birleştime\n",
        "\n",
        "print(toplam)\n",
        "#baskent = berlin #berlin isimli değişkenin içeriği baskent isimli değişkene aktarılır"
      ]
    },
    {
      "cell_type": "code",
      "execution_count": 33,
      "metadata": {
        "colab": {
          "base_uri": "https://localhost:8080/"
        },
        "id": "_FPkOJj5hSZl",
        "outputId": "a93a5f82-eab7-4cf3-84a6-7d7c63f05424"
      },
      "outputs": [
        {
          "name": "stdout",
          "output_type": "stream",
          "text": [
            "bulend,43,3.14\n"
          ]
        }
      ],
      "source": [
        "man = \"andrew\"\n",
        "age = 34\n",
        "pi = 3.14\n",
        "\n",
        "man = \"bulend\"\n",
        "age = 43\n",
        "\n",
        "print(man, age, pi, sep=\",\")"
      ]
    },
    {
      "cell_type": "code",
      "execution_count": 34,
      "metadata": {
        "colab": {
          "base_uri": "https://localhost:8080/"
        },
        "id": "goBwU2XdhsUV",
        "outputId": "6ba5161e-56e9-432a-ac5e-8694e7d538ee"
      },
      "outputs": [
        {
          "name": "stdout",
          "output_type": "stream",
          "text": [
            "andrew,34,3.14\n",
            "bulend,43,3.14\n"
          ]
        }
      ],
      "source": [
        "man = \"andrew\"\n",
        "age = 34\n",
        "pi = 3.14\n",
        "print(man, age, pi, sep=\",\")\n",
        "man = \"bulend\"\n",
        "age = 43\n",
        "\n",
        "print(man, age, pi, sep=\",\")"
      ]
    },
    {
      "cell_type": "code",
      "execution_count": 37,
      "metadata": {
        "colab": {
          "base_uri": "https://localhost:8080/"
        },
        "id": "yaYwM4YZhwGW",
        "outputId": "1cd0504c-3b77-42a5-bc81-b2f47459a676"
      },
      "outputs": [
        {
          "name": "stdout",
          "output_type": "stream",
          "text": [
            "andrew-*-34-*-3.14\n"
          ]
        }
      ],
      "source": [
        "man = \"andrew\"\n",
        "age = 34\n",
        "pi = 3.14\n",
        "print(man, age, pi, sep=\"-*-\")\n",
        "man = \"bulend\"\n",
        "age = 43\n"
      ]
    },
    {
      "cell_type": "markdown",
      "metadata": {
        "id": "gR8Sazw-ivX5"
      },
      "source": [
        "**DATA TYPES"
      ]
    },
    {
      "cell_type": "code",
      "execution_count": 38,
      "metadata": {
        "colab": {
          "base_uri": "https://localhost:8080/"
        },
        "id": "W1GZu1Odiu4R",
        "outputId": "9f4f229f-3392-4770-8e1e-548776819de8"
      },
      "outputs": [
        {
          "name": "stdout",
          "output_type": "stream",
          "text": [
            "ankara'nın plakası 06 dır.\n"
          ]
        }
      ],
      "source": [
        "my_text = \"ankara'nın plakası 06 dır.\"  #string\n",
        "print(my_text)"
      ]
    },
    {
      "cell_type": "code",
      "execution_count": 39,
      "metadata": {
        "colab": {
          "base_uri": "https://localhost:8080/"
        },
        "id": "sinoAmEcjDiQ",
        "outputId": "16572a44-e84b-49a8-db61-427f7d0fd22c"
      },
      "outputs": [
        {
          "name": "stdout",
          "output_type": "stream",
          "text": [
            "<class 'str'>\n"
          ]
        }
      ],
      "source": [
        "print(type(my_text)) #my_text'in tipini verir"
      ]
    },
    {
      "cell_type": "code",
      "execution_count": 40,
      "metadata": {
        "colab": {
          "base_uri": "https://localhost:8080/"
        },
        "id": "O6GKbClRjQik",
        "outputId": "1e7d83d9-09f4-4a6e-fd46-045239f9c9a1"
      },
      "outputs": [
        {
          "data": {
            "text/plain": [
              "str"
            ]
          },
          "execution_count": 40,
          "metadata": {},
          "output_type": "execute_result"
        }
      ],
      "source": [
        "type(my_text)"
      ]
    },
    {
      "cell_type": "code",
      "execution_count": 41,
      "metadata": {
        "colab": {
          "base_uri": "https://localhost:8080/"
        },
        "id": "kbVluYX1jncL",
        "outputId": "23b7f2dd-2664-4a61-ba8a-6e662dc99693"
      },
      "outputs": [
        {
          "name": "stdout",
          "output_type": "stream",
          "text": [
            "ankara\"nın plakası 06 dır.\n"
          ]
        }
      ],
      "source": [
        "my_text = 'ankara\"nın plakası 06 dır.'  #string\n",
        "print(my_text)"
      ]
    },
    {
      "cell_type": "code",
      "execution_count": 42,
      "metadata": {
        "colab": {
          "base_uri": "https://localhost:8080/"
        },
        "id": "fLDVp4Fhjv--",
        "outputId": "ee7bee1d-ce8f-4b61-bd11-d4d5f2195f98"
      },
      "outputs": [
        {
          "name": "stdout",
          "output_type": "stream",
          "text": [
            "ankara'nın plakası 06 dır.\n"
          ]
        }
      ],
      "source": [
        "my_text = 'ankara\\'nın plakası 06 dır.'  #string\n",
        "print(my_text)"
      ]
    },
    {
      "cell_type": "code",
      "execution_count": 44,
      "metadata": {
        "colab": {
          "base_uri": "https://localhost:8080/"
        },
        "id": "KoztyWzokJlr",
        "outputId": "7bc92353-c4ba-4f5c-bda4-c4042aaa7476"
      },
      "outputs": [
        {
          "name": "stdout",
          "output_type": "stream",
          "text": [
            "1453 <class 'str'>\n",
            "-+!%*\\ <class 'str'>\n"
          ]
        }
      ],
      "source": [
        "str_num = \"1453\"\n",
        "str_sign = \"-+!%*\\\\\"\n",
        "print(str_num, type(str_num))\n",
        "print(str_sign, type(str_sign))"
      ]
    },
    {
      "cell_type": "code",
      "execution_count": 45,
      "metadata": {
        "colab": {
          "base_uri": "https://localhost:8080/"
        },
        "id": "39XXk9Cjlbre",
        "outputId": "1e3a9778-8aa4-41fa-b100-8ec0d0435df5"
      },
      "outputs": [
        {
          "name": "stdout",
          "output_type": "stream",
          "text": [
            "45\n",
            "45.56\n"
          ]
        }
      ],
      "source": [
        "int_no = 45\n",
        "flt_no = 45.56\n",
        "print(int_no)\n",
        "print(flt_no)"
      ]
    },
    {
      "cell_type": "code",
      "execution_count": 46,
      "metadata": {
        "colab": {
          "base_uri": "https://localhost:8080/"
        },
        "id": "A_AfMdPPlkXx",
        "outputId": "c9d9b6cd-1969-4124-dca2-9a6b6f1e9084"
      },
      "outputs": [
        {
          "name": "stdout",
          "output_type": "stream",
          "text": [
            "<class 'int'>\n",
            "<class 'float'>\n"
          ]
        }
      ],
      "source": [
        "print(type(int_no))\n",
        "print(type(flt_no))"
      ]
    },
    {
      "cell_type": "code",
      "execution_count": 48,
      "metadata": {
        "colab": {
          "base_uri": "https://localhost:8080/"
        },
        "id": "Z1x-u2qSl4Hn",
        "outputId": "9e366b1f-289b-4828-992b-1b29bfb2f518"
      },
      "outputs": [
        {
          "name": "stdout",
          "output_type": "stream",
          "text": [
            "True\n",
            "<class 'bool'>\n",
            "False\n"
          ]
        }
      ],
      "source": [
        "a = True\n",
        "l = False\n",
        "\n",
        "print(a)\n",
        "print(type(a))\n",
        "print(l)"
      ]
    },
    {
      "cell_type": "code",
      "execution_count": 50,
      "metadata": {
        "colab": {
          "base_uri": "https://localhost:8080/"
        },
        "id": "ynyUcnB-mZpp",
        "outputId": "6b982bbc-588c-4334-ddc9-4d0e67ae6301"
      },
      "outputs": [
        {
          "name": "stdout",
          "output_type": "stream",
          "text": [
            "90\n",
            "<class 'str'>\n"
          ]
        }
      ],
      "source": [
        "# bütün tipler stringe dönüştürülebilir\n",
        "int_num = 90\n",
        "b = (str)(int_num) # \"90\"\n",
        "print(b)\n",
        "print(type(b))"
      ]
    },
    {
      "cell_type": "code",
      "execution_count": 52,
      "metadata": {
        "colab": {
          "base_uri": "https://localhost:8080/"
        },
        "id": "RjTe-V7-nKeB",
        "outputId": "7fce7cdb-86d9-40a5-a22e-614fd58abc16"
      },
      "outputs": [
        {
          "name": "stdout",
          "output_type": "stream",
          "text": [
            "90.95\n",
            "<class 'str'>\n"
          ]
        }
      ],
      "source": [
        "# bütün tipler stringe dönüştürülebilir\n",
        "_num = 90.95\n",
        "b = (str)(_num) # \"90.95\"\n",
        "print(b)\n",
        "print(type(b))"
      ]
    },
    {
      "cell_type": "code",
      "execution_count": 54,
      "metadata": {
        "colab": {
          "base_uri": "https://localhost:8080/"
        },
        "id": "6-zzgcm3nd0G",
        "outputId": "57e0ad00-533e-479f-b4f7-ae36fccba572"
      },
      "outputs": [
        {
          "name": "stdout",
          "output_type": "stream",
          "text": [
            "90.9\n",
            "90.9\n",
            "<class 'str'>\n"
          ]
        }
      ],
      "source": [
        "# bütün tipler stringe dönüştürülebilir\n",
        "_num = 90.90    # 90.9 olarak aktarılıyor\n",
        "print(_num)\n",
        "b = (str)(_num) # \"90.9\"\n",
        "print(b)\n",
        "print(type(b))"
      ]
    },
    {
      "cell_type": "code",
      "execution_count": 55,
      "metadata": {
        "colab": {
          "base_uri": "https://localhost:8080/"
        },
        "id": "HW03EeB6n-Sd",
        "outputId": "b735b605-123f-4923-d0ed-6b9ddd21474e"
      },
      "outputs": [
        {
          "name": "stdout",
          "output_type": "stream",
          "text": [
            "3\n",
            "<class 'int'>\n"
          ]
        }
      ],
      "source": [
        "pi = 3.14\n",
        "conv_pi = int(pi) # tam kısmı alır\n",
        "print(conv_pi)\n",
        "print(type(conv_pi))"
      ]
    },
    {
      "cell_type": "code",
      "execution_count": 56,
      "metadata": {
        "colab": {
          "base_uri": "https://localhost:8080/"
        },
        "id": "NzLU1wMvoRgD",
        "outputId": "4fa33666-c52b-4435-cabe-1ba644759e7c"
      },
      "outputs": [
        {
          "name": "stdout",
          "output_type": "stream",
          "text": [
            "3\n",
            "<class 'int'>\n"
          ]
        }
      ],
      "source": [
        "pi = 3.99\n",
        "conv_pi = int(pi) # tam kısmı alır\n",
        "print(conv_pi)\n",
        "print(type(conv_pi))"
      ]
    },
    {
      "cell_type": "code",
      "execution_count": 57,
      "metadata": {
        "colab": {
          "base_uri": "https://localhost:8080/"
        },
        "id": "G47OVAb8oYQK",
        "outputId": "9f5059be-5488-4974-dead-1eb5f25e3065"
      },
      "outputs": [
        {
          "name": "stdout",
          "output_type": "stream",
          "text": [
            "3.0\n",
            "<class 'float'>\n"
          ]
        }
      ],
      "source": [
        "pi = 3\n",
        "conv_pi = float(pi) # float tipine dönüüştü\n",
        "print(conv_pi)\n",
        "print(type(conv_pi))"
      ]
    },
    {
      "cell_type": "code",
      "execution_count": 58,
      "metadata": {
        "colab": {
          "base_uri": "https://localhost:8080/"
        },
        "id": "tA6_BTOJotgH",
        "outputId": "ca67a773-ffb8-41a4-bd94-eeb7a1ea51cb"
      },
      "outputs": [
        {
          "name": "stdout",
          "output_type": "stream",
          "text": [
            "26\n"
          ]
        }
      ],
      "source": [
        "x = 15\n",
        "y = \"11\"\n",
        "z = \"2.5\"\n",
        "t = \"ali\"\n",
        "\n",
        "print(x + int(y))"
      ]
    },
    {
      "cell_type": "code",
      "execution_count": 60,
      "metadata": {
        "colab": {
          "base_uri": "https://localhost:8080/"
        },
        "id": "oSvTpBlzo6Bi",
        "outputId": "6edea225-35c7-4754-de05-8a8a7181991a"
      },
      "outputs": [
        {
          "name": "stdout",
          "output_type": "stream",
          "text": [
            "1115\n",
            "ali11\n"
          ]
        }
      ],
      "source": [
        "x = 15\n",
        "y = \"11\"\n",
        "z = \"2.5\"\n",
        "t = \"ali\"\n",
        "\n",
        "print(y + str(x)) #??\n",
        "print(t + y)"
      ]
    },
    {
      "cell_type": "code",
      "execution_count": 62,
      "metadata": {
        "colab": {
          "base_uri": "https://localhost:8080/",
          "height": 236
        },
        "id": "gOqPt3jJpNXh",
        "outputId": "923c8d86-001f-4212-b124-4741fc459804"
      },
      "outputs": [
        {
          "name": "stdout",
          "output_type": "stream",
          "text": [
            "1115\n",
            "ali11\n"
          ]
        },
        {
          "ename": "TypeError",
          "evalue": "ignored",
          "output_type": "error",
          "traceback": [
            "\u001b[0;31m---------------------------------------------------------------------------\u001b[0m",
            "\u001b[0;31mTypeError\u001b[0m                                 Traceback (most recent call last)",
            "\u001b[0;32m<ipython-input-62-f0eeb4fdd816>\u001b[0m in \u001b[0;36m<module>\u001b[0;34m\u001b[0m\n\u001b[1;32m      6\u001b[0m \u001b[0mprint\u001b[0m\u001b[0;34m(\u001b[0m\u001b[0my\u001b[0m \u001b[0;34m+\u001b[0m \u001b[0mstr\u001b[0m\u001b[0;34m(\u001b[0m\u001b[0mx\u001b[0m\u001b[0;34m)\u001b[0m\u001b[0;34m)\u001b[0m \u001b[0;31m#??\u001b[0m\u001b[0;34m\u001b[0m\u001b[0;34m\u001b[0m\u001b[0m\n\u001b[1;32m      7\u001b[0m \u001b[0mprint\u001b[0m\u001b[0;34m(\u001b[0m\u001b[0mt\u001b[0m \u001b[0;34m+\u001b[0m \u001b[0my\u001b[0m\u001b[0;34m)\u001b[0m\u001b[0;34m\u001b[0m\u001b[0;34m\u001b[0m\u001b[0m\n\u001b[0;32m----> 8\u001b[0;31m \u001b[0mprint\u001b[0m\u001b[0;34m(\u001b[0m\u001b[0mt\u001b[0m \u001b[0;34m+\u001b[0m \u001b[0mx\u001b[0m\u001b[0;34m)\u001b[0m\u001b[0;34m\u001b[0m\u001b[0;34m\u001b[0m\u001b[0m\n\u001b[0m",
            "\u001b[0;31mTypeError\u001b[0m: can only concatenate str (not \"int\") to str"
          ]
        }
      ],
      "source": [
        "x = 15\n",
        "y = \"11\"\n",
        "z = \"2.5\"\n",
        "t = \"ali\"\n",
        "\n",
        "print(y + str(x)) #??\n",
        "print(t + y)\n",
        "print(t + x)"
      ]
    },
    {
      "cell_type": "code",
      "execution_count": 66,
      "metadata": {
        "colab": {
          "base_uri": "https://localhost:8080/"
        },
        "id": "8D59SzLjpWA8",
        "outputId": "64a0d55f-deea-492b-c664-9192c7fc2b12"
      },
      "outputs": [
        {
          "name": "stdout",
          "output_type": "stream",
          "text": [
            "1115\n",
            "ali11\n",
            "ali15\n",
            "26\n",
            "17.5\n"
          ]
        }
      ],
      "source": [
        "x = 15\n",
        "y = \"11\"\n",
        "z = \"2.5\"\n",
        "t = \"ali\"\n",
        "\n",
        "print(y + str(x)) #?? str + str (birleştirme/concat)\n",
        "print(t + y)        # str + str\n",
        "print(t + str(x))   # str + str\n",
        "print(x + int(y))   # int + int (toplama/add)\n",
        "print(x + float(z)) # int + float = float (toplama)"
      ]
    },
    {
      "cell_type": "code",
      "execution_count": 67,
      "metadata": {
        "colab": {
          "base_uri": "https://localhost:8080/"
        },
        "id": "IbI1BX4_qFjs",
        "outputId": "a22032aa-ff45-42c0-e133-df4046f0b203"
      },
      "outputs": [
        {
          "name": "stdout",
          "output_type": "stream",
          "text": [
            "7.0\n"
          ]
        }
      ],
      "source": [
        "print(3.5 + 3.5)    # float + float = float"
      ]
    },
    {
      "cell_type": "code",
      "execution_count": 68,
      "metadata": {
        "colab": {
          "base_uri": "https://localhost:8080/"
        },
        "id": "MK5a23nXqaFc",
        "outputId": "e1ab05e1-e9ce-44b5-a59e-74d12fcf7180"
      },
      "outputs": [
        {
          "name": "stdout",
          "output_type": "stream",
          "text": [
            "51\n",
            "51\n",
            "51\n"
          ]
        }
      ],
      "source": [
        "print(int(\"5\" + \"1\")) #önce  \"51\" sonra int'e dönüştü\n",
        "print(str(\"5\" + \"1\")) #önce \"51\" sonra str'e dönüştü\n",
        "print(\"5\" + \"1\")    # \"51\""
      ]
    },
    {
      "cell_type": "code",
      "execution_count": 69,
      "metadata": {
        "colab": {
          "base_uri": "https://localhost:8080/"
        },
        "id": "1illp_9CrMKb",
        "outputId": "c4c03616-c378-48df-ed91-24bc73dbf73d"
      },
      "outputs": [
        {
          "name": "stdout",
          "output_type": "stream",
          "text": [
            "num_int in tipi: <class 'int'>\n",
            "num_flt in tipi: <class 'float'>\n",
            "num_new in değeri: 124.23\n",
            "num_new in tipi: <class 'float'>\n"
          ]
        }
      ],
      "source": [
        "num_int = 123\n",
        "num_flt = 1.23\n",
        "num_new = num_int + num_flt # otomatik float'a dönüştü : int + float = float\n",
        "print(\"num_int in tipi:\", type(num_int))\n",
        "print(\"num_flt in tipi:\", type(num_flt))\n",
        "print(\"num_new in değeri:\", num_new)\n",
        "print(\"num_new in tipi:\", type(num_new))"
      ]
    },
    {
      "cell_type": "code",
      "execution_count": 70,
      "metadata": {
        "colab": {
          "base_uri": "https://localhost:8080/",
          "height": 201
        },
        "id": "9VgaEBbysFR0",
        "outputId": "34c38328-bcf4-4c74-fe2b-94fd6d543dd2"
      },
      "outputs": [
        {
          "ename": "TypeError",
          "evalue": "ignored",
          "output_type": "error",
          "traceback": [
            "\u001b[0;31m---------------------------------------------------------------------------\u001b[0m",
            "\u001b[0;31mTypeError\u001b[0m                                 Traceback (most recent call last)",
            "\u001b[0;32m<ipython-input-70-1e9587415886>\u001b[0m in \u001b[0;36m<module>\u001b[0;34m\u001b[0m\n\u001b[1;32m      1\u001b[0m \u001b[0mnum_int\u001b[0m \u001b[0;34m=\u001b[0m \u001b[0;36m123\u001b[0m\u001b[0;34m\u001b[0m\u001b[0;34m\u001b[0m\u001b[0m\n\u001b[1;32m      2\u001b[0m \u001b[0mnum_str\u001b[0m \u001b[0;34m=\u001b[0m \u001b[0;34m\"456\"\u001b[0m\u001b[0;34m\u001b[0m\u001b[0;34m\u001b[0m\u001b[0m\n\u001b[0;32m----> 3\u001b[0;31m \u001b[0mprint\u001b[0m\u001b[0;34m(\u001b[0m\u001b[0mnum_int\u001b[0m \u001b[0;34m+\u001b[0m \u001b[0mnum_str\u001b[0m\u001b[0;34m)\u001b[0m\u001b[0;34m\u001b[0m\u001b[0;34m\u001b[0m\u001b[0m\n\u001b[0m",
            "\u001b[0;31mTypeError\u001b[0m: unsupported operand type(s) for +: 'int' and 'str'"
          ]
        }
      ],
      "source": [
        "num_int = 123\n",
        "num_str = \"456\"\n",
        "print(num_int + num_str)"
      ]
    },
    {
      "cell_type": "code",
      "execution_count": 71,
      "metadata": {
        "colab": {
          "base_uri": "https://localhost:8080/"
        },
        "id": "gJ-LmNw9szU5",
        "outputId": "6b193b2e-30c9-43a1-a534-ea2ca315134c"
      },
      "outputs": [
        {
          "name": "stdout",
          "output_type": "stream",
          "text": [
            "579\n"
          ]
        }
      ],
      "source": [
        "num_int = 123\n",
        "num_str = \"456\"\n",
        "print(num_int + int(num_str))"
      ]
    },
    {
      "cell_type": "code",
      "execution_count": 72,
      "metadata": {
        "colab": {
          "base_uri": "https://localhost:8080/",
          "height": 201
        },
        "id": "L0B_bia5s5Cv",
        "outputId": "f5559d7c-4808-4b22-cd6a-1f8143c0e2e3"
      },
      "outputs": [
        {
          "ename": "ValueError",
          "evalue": "ignored",
          "output_type": "error",
          "traceback": [
            "\u001b[0;31m---------------------------------------------------------------------------\u001b[0m",
            "\u001b[0;31mValueError\u001b[0m                                Traceback (most recent call last)",
            "\u001b[0;32m<ipython-input-72-e0d395c1040a>\u001b[0m in \u001b[0;36m<module>\u001b[0;34m\u001b[0m\n\u001b[1;32m      1\u001b[0m \u001b[0mnum_int\u001b[0m \u001b[0;34m=\u001b[0m \u001b[0;36m123\u001b[0m\u001b[0;34m\u001b[0m\u001b[0;34m\u001b[0m\u001b[0m\n\u001b[1;32m      2\u001b[0m \u001b[0mnum_str\u001b[0m \u001b[0;34m=\u001b[0m \u001b[0;34m\"45u6\"\u001b[0m\u001b[0;34m\u001b[0m\u001b[0;34m\u001b[0m\u001b[0m\n\u001b[0;32m----> 3\u001b[0;31m \u001b[0mprint\u001b[0m\u001b[0;34m(\u001b[0m\u001b[0mnum_int\u001b[0m \u001b[0;34m+\u001b[0m \u001b[0mint\u001b[0m\u001b[0;34m(\u001b[0m\u001b[0mnum_str\u001b[0m\u001b[0;34m)\u001b[0m\u001b[0;34m)\u001b[0m\u001b[0;34m\u001b[0m\u001b[0;34m\u001b[0m\u001b[0m\n\u001b[0m",
            "\u001b[0;31mValueError\u001b[0m: invalid literal for int() with base 10: '45u6'"
          ]
        }
      ],
      "source": [
        "num_int = 123\n",
        "num_str = \"45u6\"\n",
        "print(num_int + int(num_str))"
      ]
    },
    {
      "cell_type": "code",
      "execution_count": 73,
      "metadata": {
        "colab": {
          "base_uri": "https://localhost:8080/"
        },
        "id": "aqkxa_A7tWd7",
        "outputId": "24584ad9-5307-4e72-8fc4-f19c22045d19"
      },
      "outputs": [
        {
          "name": "stdout",
          "output_type": "stream",
          "text": [
            "True\n"
          ]
        }
      ],
      "source": [
        "b = True\n",
        "str_b = str(b) \n",
        "print(str_b)    # \"True\""
      ]
    },
    {
      "cell_type": "code",
      "execution_count": 76,
      "metadata": {
        "colab": {
          "base_uri": "https://localhost:8080/"
        },
        "id": "gHnNjBjBtl41",
        "outputId": "242d66e7-3ca8-4ded-d0a0-f527afbda06e"
      },
      "outputs": [
        {
          "name": "stdout",
          "output_type": "stream",
          "text": [
            "False\n"
          ]
        }
      ],
      "source": [
        "b = \"True\"\n",
        "_b = bool(b) # True \n",
        "print(_b and False)    # True and False = False"
      ]
    },
    {
      "cell_type": "code",
      "execution_count": 77,
      "metadata": {
        "colab": {
          "base_uri": "https://localhost:8080/"
        },
        "id": "GSiuux3-t7eX",
        "outputId": "98603814-b264-4a75-fb0d-08a2d154a6c2"
      },
      "outputs": [
        {
          "name": "stdout",
          "output_type": "stream",
          "text": [
            "1\n"
          ]
        }
      ],
      "source": [
        "b = True\n",
        "a = False\n",
        "print(int(b) + int(a))    # 1 + 0 \n",
        "# C dili geleneği olarak True 1, False ise 0 kabul edilir..."
      ]
    },
    {
      "cell_type": "code",
      "execution_count": 78,
      "metadata": {
        "colab": {
          "base_uri": "https://localhost:8080/"
        },
        "id": "BRzl5uQ6uU-J",
        "outputId": "ef304861-52ac-4778-ce29-0459164776d2"
      },
      "outputs": [
        {
          "name": "stdout",
          "output_type": "stream",
          "text": [
            "-1\n"
          ]
        }
      ],
      "source": [
        "b = -True\n",
        "print(b)"
      ]
    },
    {
      "cell_type": "code",
      "execution_count": 80,
      "metadata": {
        "colab": {
          "base_uri": "https://localhost:8080/"
        },
        "id": "tb-RyBLcueva",
        "outputId": "6295175b-2c86-4d29-85ef-fcf6a7b5bf34"
      },
      "outputs": [
        {
          "name": "stdout",
          "output_type": "stream",
          "text": [
            "False\n",
            "True\n",
            "True\n",
            "True\n",
            "False\n"
          ]
        }
      ],
      "source": [
        "## Python da 0, içi boş string  False, diğer değerler True kabul edilir.\n",
        "a = 0\n",
        "b = 1453\n",
        "c = -5\n",
        "d = \"aliveli\"\n",
        "e = \"\"      #içi boş string \n",
        "print(bool(a))\n",
        "print(bool(b))\n",
        "print(bool(c))\n",
        "print(bool(d))\n",
        "print(bool(e))"
      ]
    },
    {
      "cell_type": "code",
      "execution_count": 81,
      "metadata": {
        "colab": {
          "base_uri": "https://localhost:8080/"
        },
        "id": "t_0B3MlXxUTE",
        "outputId": "494fdb96-7962-4de3-f0d4-c60c7f7df354"
      },
      "outputs": [
        {
          "name": "stdout",
          "output_type": "stream",
          "text": [
            "How old are you?45\n",
            "45\n"
          ]
        }
      ],
      "source": [
        "age = input(\"How old are you?\")\n",
        "print(age)"
      ]
    },
    {
      "cell_type": "code",
      "execution_count": 82,
      "metadata": {
        "colab": {
          "base_uri": "https://localhost:8080/"
        },
        "id": "kZSz-t5nxjmU",
        "outputId": "48a281b2-e9b1-44df-ed84-3f584d4c70b7"
      },
      "outputs": [
        {
          "name": "stdout",
          "output_type": "stream",
          "text": [
            "Isminiz?bulend\n",
            "İsmim:  bulend\n"
          ]
        }
      ],
      "source": [
        "ad = input(\"Isminiz?\") # default olarak string değer alır\n",
        "print(\"İsmim: \", ad)"
      ]
    },
    {
      "cell_type": "code",
      "execution_count": 83,
      "metadata": {
        "colab": {
          "base_uri": "https://localhost:8080/"
        },
        "id": "OxUhjGsvyHyA",
        "outputId": "958138ae-ae93-4850-9574-28c4ca5690f0"
      },
      "outputs": [
        {
          "name": "stdout",
          "output_type": "stream",
          "text": [
            "53\n"
          ]
        }
      ],
      "source": [
        "print(\"5\" + \"3\") #concat"
      ]
    },
    {
      "cell_type": "code",
      "execution_count": 84,
      "metadata": {
        "colab": {
          "base_uri": "https://localhost:8080/"
        },
        "id": "FZv3cox1yKuK",
        "outputId": "47fa40d1-d510-42ac-f22d-315999226c0b"
      },
      "outputs": [
        {
          "name": "stdout",
          "output_type": "stream",
          "text": [
            "8\n"
          ]
        }
      ],
      "source": [
        "print(5 + 3) #add"
      ]
    },
    {
      "cell_type": "code",
      "execution_count": null,
      "metadata": {
        "id": "USX-YMY_ysRn"
      },
      "outputs": [],
      "source": [
        "x = \"Hello\" # x e \"Hello değerini ata\""
      ]
    },
    {
      "cell_type": "code",
      "execution_count": null,
      "metadata": {
        "id": "QohgxE8Oyw72"
      },
      "outputs": [],
      "source": [
        "x == \"Hello\" # x, \"Hello\" mu? (sorgulama)"
      ]
    },
    {
      "cell_type": "code",
      "execution_count": 85,
      "metadata": {
        "colab": {
          "base_uri": "https://localhost:8080/"
        },
        "id": "G7tWRSm8z6-T",
        "outputId": "7859155b-5499-46ad-bbf0-a7e699f2bb8b"
      },
      "outputs": [
        {
          "name": "stdout",
          "output_type": "stream",
          "text": [
            "4\n",
            "<class 'str'>\n"
          ]
        }
      ],
      "source": [
        "my_name = input() #input(fonksiyon)\n",
        "print(type(my_name)) #str tipte bir değişkendir."
      ]
    },
    {
      "cell_type": "code",
      "execution_count": 86,
      "metadata": {
        "colab": {
          "base_uri": "https://localhost:8080/",
          "height": 184
        },
        "id": "M2lkGULi0Qlm",
        "outputId": "1acf3d9d-062e-42b5-ab08-07e761178887"
      },
      "outputs": [
        {
          "ename": "NameError",
          "evalue": "ignored",
          "output_type": "error",
          "traceback": [
            "\u001b[0;31m---------------------------------------------------------------------------\u001b[0m",
            "\u001b[0;31mNameError\u001b[0m                                 Traceback (most recent call last)",
            "\u001b[0;32m<ipython-input-86-8bb9170f8f6f>\u001b[0m in \u001b[0;36m<module>\u001b[0;34m\u001b[0m\n\u001b[1;32m      1\u001b[0m \u001b[0mname\u001b[0m \u001b[0;34m=\u001b[0m \u001b[0;34m\"Bob\"\u001b[0m\u001b[0;34m\u001b[0m\u001b[0;34m\u001b[0m\u001b[0m\n\u001b[0;32m----> 2\u001b[0;31m \u001b[0mprint\u001b[0m\u001b[0;34m(\u001b[0m\u001b[0mName\u001b[0m\u001b[0;34m)\u001b[0m\u001b[0;34m\u001b[0m\u001b[0;34m\u001b[0m\u001b[0m\n\u001b[0m",
            "\u001b[0;31mNameError\u001b[0m: name 'Name' is not defined"
          ]
        }
      ],
      "source": [
        "name = \"Bob\"\n",
        "print(Name)"
      ]
    },
    {
      "cell_type": "code",
      "execution_count": 87,
      "metadata": {
        "colab": {
          "base_uri": "https://localhost:8080/"
        },
        "id": "FsmY2BEv0VG_",
        "outputId": "fafad7a3-7071-4ac3-a649-a6baac01d0a6"
      },
      "outputs": [
        {
          "name": "stdout",
          "output_type": "stream",
          "text": [
            "Bob\n"
          ]
        }
      ],
      "source": [
        "name = \"Bob\"\n",
        "print(name)"
      ]
    },
    {
      "cell_type": "code",
      "execution_count": 1,
      "metadata": {},
      "outputs": [
        {
          "name": "stdout",
          "output_type": "stream",
          "text": [
            "6\n"
          ]
        }
      ],
      "source": [
        "a=24\n",
        "b=18\n",
        "c=a%b\n",
        "print(c)"
      ]
    },
    {
      "cell_type": "code",
      "execution_count": 7,
      "metadata": {},
      "outputs": [
        {
          "name": "stdout",
          "output_type": "stream",
          "text": [
            "girilen sayi tek sayi...\n"
          ]
        }
      ],
      "source": [
        "#Task-4:  Girilen bir sayının tek mi çift mi olduğunu bulan programı (and, or ve % operatörlerini kullanarak ) kodlayınız.\n",
        "sayi= float(input(\"bir sayi giriniz\"))\n",
        "kalan= sayi%2\n",
        "print((kalan and \"girilen sayi tek sayi...\") or (\"girilen sayi cift sayi...\" or kalan ))"
      ]
    },
    {
      "cell_type": "code",
      "execution_count": 10,
      "metadata": {},
      "outputs": [
        {
          "name": "stdout",
          "output_type": "stream",
          "text": [
            "-3.0\n"
          ]
        }
      ],
      "source": [
        "print(float(-13//5))"
      ]
    },
    {
      "cell_type": "code",
      "execution_count": 1,
      "metadata": {},
      "outputs": [
        {
          "ename": "",
          "evalue": "",
          "output_type": "error",
          "traceback": [
            "\u001b[1;31mThe Kernel crashed while executing code in the the current cell or a previous cell. Please review the code in the cell(s) to identify a possible cause of the failure. Click <a href='https://aka.ms/vscodeJupyterKernelCrash'>here</a> for more info. View Jupyter <a href='command:jupyter.viewOutput'>log</a> for further details."
          ]
        }
      ],
      "source": [
        "import turtle\n",
        "wn = turtle.Screen()\n",
        "\n",
        "jazz = turtle.Turtle()\n",
        "jazz.forward(50)\n",
        "jazz.right(90)\n",
        "pop = turtle.Turtle()\n",
        "pop.left(180)\n",
        "pop.forward(76)"
      ]
    },
    {
      "cell_type": "code",
      "execution_count": 2,
      "metadata": {},
      "outputs": [
        {
          "name": "stdout",
          "output_type": "stream",
          "text": [
            "We God In Trust\n",
            "In God We Trust\n",
            "God We Trust In\n",
            "In God Trust We\n"
          ]
        },
        {
          "ename": "ValueError",
          "evalue": "cannot switch from automatic field numbering to manual field specification",
          "output_type": "error",
          "traceback": [
            "\u001b[0;31m---------------------------------------------------------------------------\u001b[0m",
            "\u001b[0;31mValueError\u001b[0m                                Traceback (most recent call last)",
            "Cell \u001b[0;32mIn [2], line 8\u001b[0m\n\u001b[1;32m      6\u001b[0m \u001b[38;5;28mprint\u001b[39m(\u001b[38;5;124m'\u001b[39m\u001b[38;5;132;01m{}\u001b[39;00m\u001b[38;5;124m \u001b[39m\u001b[38;5;132;01m{}\u001b[39;00m\u001b[38;5;124m \u001b[39m\u001b[38;5;132;01m{}\u001b[39;00m\u001b[38;5;124m \u001b[39m\u001b[38;5;132;01m{}\u001b[39;00m\u001b[38;5;124m'\u001b[39m\u001b[38;5;241m.\u001b[39mformat(\u001b[38;5;124m\"\u001b[39m\u001b[38;5;124mGod\u001b[39m\u001b[38;5;124m\"\u001b[39m, \u001b[38;5;124m\"\u001b[39m\u001b[38;5;124mWe\u001b[39m\u001b[38;5;124m\"\u001b[39m, \u001b[38;5;124m\"\u001b[39m\u001b[38;5;124mTrust\u001b[39m\u001b[38;5;124m\"\u001b[39m, \u001b[38;5;124m'\u001b[39m\u001b[38;5;124mIn\u001b[39m\u001b[38;5;124m'\u001b[39m))\n\u001b[1;32m      7\u001b[0m \u001b[38;5;28mprint\u001b[39m(\u001b[38;5;124m'\u001b[39m\u001b[38;5;132;01m{0}\u001b[39;00m\u001b[38;5;124m \u001b[39m\u001b[38;5;132;01m{1}\u001b[39;00m\u001b[38;5;124m \u001b[39m\u001b[38;5;132;01m{3}\u001b[39;00m\u001b[38;5;124m \u001b[39m\u001b[38;5;132;01m{2}\u001b[39;00m\u001b[38;5;124m'\u001b[39m\u001b[38;5;241m.\u001b[39mformat(\u001b[38;5;124m'\u001b[39m\u001b[38;5;124mIn\u001b[39m\u001b[38;5;124m'\u001b[39m, \u001b[38;5;124m\"\u001b[39m\u001b[38;5;124mGod\u001b[39m\u001b[38;5;124m\"\u001b[39m, \u001b[38;5;124m\"\u001b[39m\u001b[38;5;124mWe\u001b[39m\u001b[38;5;124m\"\u001b[39m, \u001b[38;5;124m\"\u001b[39m\u001b[38;5;124mTrust\u001b[39m\u001b[38;5;124m\"\u001b[39m))\n\u001b[0;32m----> 8\u001b[0m \u001b[38;5;28mprint\u001b[39m(\u001b[38;5;124;43m'\u001b[39;49m\u001b[38;5;132;43;01m{}\u001b[39;49;00m\u001b[38;5;124;43m \u001b[39;49m\u001b[38;5;132;43;01m{}\u001b[39;49;00m\u001b[38;5;124;43m \u001b[39;49m\u001b[38;5;132;43;01m{3}\u001b[39;49;00m\u001b[38;5;124;43m \u001b[39;49m\u001b[38;5;132;43;01m{2}\u001b[39;49;00m\u001b[38;5;124;43m'\u001b[39;49m\u001b[38;5;241;43m.\u001b[39;49m\u001b[43mformat\u001b[49m\u001b[43m(\u001b[49m\u001b[38;5;124;43m'\u001b[39;49m\u001b[38;5;124;43mIn\u001b[39;49m\u001b[38;5;124;43m'\u001b[39;49m\u001b[43m,\u001b[49m\u001b[43m \u001b[49m\u001b[38;5;124;43m\"\u001b[39;49m\u001b[38;5;124;43mGod\u001b[39;49m\u001b[38;5;124;43m\"\u001b[39;49m\u001b[43m,\u001b[49m\u001b[43m \u001b[49m\u001b[38;5;124;43m\"\u001b[39;49m\u001b[38;5;124;43mWe\u001b[39;49m\u001b[38;5;124;43m\"\u001b[39;49m\u001b[43m,\u001b[49m\u001b[43m \u001b[49m\u001b[38;5;124;43m\"\u001b[39;49m\u001b[38;5;124;43mTrust\u001b[39;49m\u001b[38;5;124;43m\"\u001b[39;49m\u001b[43m)\u001b[49m)\n\u001b[1;32m     10\u001b[0m \u001b[38;5;66;03m#Doğru cevap\u001b[39;00m\n\u001b[1;32m     11\u001b[0m \u001b[38;5;28mprint\u001b[39m(\u001b[38;5;124m'\u001b[39m\u001b[38;5;132;01m{3}\u001b[39;00m\u001b[38;5;124m \u001b[39m\u001b[38;5;132;01m{0}\u001b[39;00m\u001b[38;5;124m \u001b[39m\u001b[38;5;132;01m{1}\u001b[39;00m\u001b[38;5;124m \u001b[39m\u001b[38;5;132;01m{2}\u001b[39;00m\u001b[38;5;124m'\u001b[39m\u001b[38;5;241m.\u001b[39mformat(\u001b[38;5;124m\"\u001b[39m\u001b[38;5;124mGod\u001b[39m\u001b[38;5;124m\"\u001b[39m, \u001b[38;5;124m\"\u001b[39m\u001b[38;5;124mWe\u001b[39m\u001b[38;5;124m\"\u001b[39m, \u001b[38;5;124m\"\u001b[39m\u001b[38;5;124mTrust\u001b[39m\u001b[38;5;124m\"\u001b[39m, \u001b[38;5;124m'\u001b[39m\u001b[38;5;124mIn\u001b[39m\u001b[38;5;124m'\u001b[39m))\n",
            "\u001b[0;31mValueError\u001b[0m: cannot switch from automatic field numbering to manual field specification"
          ]
        }
      ],
      "source": [
        " \n",
        "#Hangi seçenekte ekrana \"In God We Trust\" yazdırlır?\n",
        "\n",
        "0/5\n",
        "print('{2} {1} {0} {3}'.format('In', \"God\", \"We\", \"Trust\"))\n",
        "print('{3} {0} {1} {2}'.format(\"God\", \"We\", \"Trust\", 'In'))\n",
        "print('{} {} {} {}'.format(\"God\", \"We\", \"Trust\", 'In'))\n",
        "print('{0} {1} {3} {2}'.format('In', \"God\", \"We\", \"Trust\"))\n",
        "print('{} {} {3} {2}'.format('In', \"God\", \"We\", \"Trust\"))\n",
        " \n",
        "#Doğru cevap\n",
        "print('{3} {0} {1} {2}'.format(\"God\", \"We\", \"Trust\", 'In'))"
      ]
    },
    {
      "cell_type": "code",
      "execution_count": null,
      "metadata": {},
      "outputs": [],
      "source": [
        "print('{3} {0} {1} {2}'.format(\"God\", \"We\", \"Trust\", 'In'))"
      ]
    },
    {
      "cell_type": "code",
      "execution_count": 11,
      "metadata": {},
      "outputs": [
        {
          "ename": "TypeError",
          "evalue": "'bool' object is not callable",
          "output_type": "error",
          "traceback": [
            "\u001b[0;31m---------------------------------------------------------------------------\u001b[0m",
            "\u001b[0;31mTypeError\u001b[0m                                 Traceback (most recent call last)",
            "Cell \u001b[0;32mIn [11], line 2\u001b[0m\n\u001b[1;32m      1\u001b[0m text \u001b[38;5;241m=\u001b[39m \u001b[38;5;124m'\u001b[39m\u001b[38;5;124mwww.clarusway.com\u001b[39m\u001b[38;5;124m'\u001b[39m\n\u001b[0;32m----> 2\u001b[0m \u001b[38;5;28;43mprint\u001b[39;49m\u001b[43m(\u001b[49m\u001b[43mtext\u001b[49m\u001b[38;5;241;43m.\u001b[39;49m\u001b[43mendswith\u001b[49m\u001b[43m(\u001b[49m\u001b[38;5;124;43m'\u001b[39;49m\u001b[38;5;124;43m.com\u001b[39;49m\u001b[38;5;124;43m'\u001b[39;49m\u001b[43m)\u001b[49m\u001b[43m)\u001b[49m\n\u001b[1;32m      3\u001b[0m \u001b[38;5;28mprint\u001b[39m(text\u001b[38;5;241m.\u001b[39mstartswith(\u001b[38;5;124m'\u001b[39m\u001b[38;5;124mhttp:\u001b[39m\u001b[38;5;124m'\u001b[39m))\n",
            "\u001b[0;31mTypeError\u001b[0m: 'bool' object is not callable"
          ]
        }
      ],
      "source": [
        "text = 'www.clarusway.com'\n",
        "print(text.endswith('.com'))\n",
        "print(text.startswith('http:'))"
      ]
    },
    {
      "cell_type": "code",
      "execution_count": 10,
      "metadata": {},
      "outputs": [
        {
          "ename": "TypeError",
          "evalue": "'bool' object is not callable",
          "output_type": "error",
          "traceback": [
            "\u001b[0;31m---------------------------------------------------------------------------\u001b[0m",
            "\u001b[0;31mTypeError\u001b[0m                                 Traceback (most recent call last)",
            "Cell \u001b[0;32mIn [10], line 2\u001b[0m\n\u001b[1;32m      1\u001b[0m text\u001b[38;5;241m=\u001b[39m\u001b[38;5;124m\"\u001b[39m\u001b[38;5;124mwww.clarusway.com\u001b[39m\u001b[38;5;124m\"\u001b[39m\n\u001b[0;32m----> 2\u001b[0m \u001b[38;5;28;43mprint\u001b[39;49m\u001b[43m(\u001b[49m\u001b[43mtext\u001b[49m\u001b[38;5;241;43m.\u001b[39;49m\u001b[43mendswith\u001b[49m\u001b[43m(\u001b[49m\u001b[38;5;124;43m\"\u001b[39;49m\u001b[38;5;124;43m.com\u001b[39;49m\u001b[38;5;124;43m\"\u001b[39;49m\u001b[43m)\u001b[49m\u001b[43m)\u001b[49m\n",
            "\u001b[0;31mTypeError\u001b[0m: 'bool' object is not callable"
          ]
        }
      ],
      "source": [
        "text=\"www.clarusway.com\"\n",
        "print(text.endswith(\".com\"))\n"
      ]
    },
    {
      "cell_type": "code",
      "execution_count": null,
      "metadata": {},
      "outputs": [],
      "source": [
        "print=(text.startswith(\"http:\"))"
      ]
    },
    {
      "cell_type": "code",
      "execution_count": 12,
      "metadata": {},
      "outputs": [
        {
          "ename": "TypeError",
          "evalue": "'bool' object is not callable",
          "output_type": "error",
          "traceback": [
            "\u001b[0;31m---------------------------------------------------------------------------\u001b[0m",
            "\u001b[0;31mTypeError\u001b[0m                                 Traceback (most recent call last)",
            "Cell \u001b[0;32mIn [12], line 3\u001b[0m\n\u001b[1;32m      1\u001b[0m phrase \u001b[38;5;241m=\u001b[39m \u001b[38;5;124m\"\u001b[39m\u001b[38;5;124mmyemailaddress@clarusway.com\u001b[39m\u001b[38;5;124m\"\u001b[39m\n\u001b[0;32m----> 3\u001b[0m \u001b[38;5;28;43mprint\u001b[39;49m\u001b[43m(\u001b[49m\u001b[38;5;28;43mlen\u001b[39;49m\u001b[43m(\u001b[49m\u001b[43mphrase\u001b[49m\u001b[43m)\u001b[49m\u001b[43m)\u001b[49m\n\u001b[1;32m      4\u001b[0m \u001b[38;5;28mprint\u001b[39m(phrase\u001b[38;5;241m.\u001b[39mstartswith(\u001b[38;5;124m\"\u001b[39m\u001b[38;5;124m@\u001b[39m\u001b[38;5;124m\"\u001b[39m, \u001b[38;5;241m14\u001b[39m))\n\u001b[1;32m      5\u001b[0m \u001b[38;5;28mprint\u001b[39m(phrase\u001b[38;5;241m.\u001b[39mendswith(\u001b[38;5;124m\"\u001b[39m\u001b[38;5;124m.\u001b[39m\u001b[38;5;124m\"\u001b[39m, \u001b[38;5;241m15\u001b[39m, \u001b[38;5;241m24\u001b[39m))\n",
            "\u001b[0;31mTypeError\u001b[0m: 'bool' object is not callable"
          ]
        }
      ],
      "source": [
        "phrase = \"myemailaddress@clarusway.com\"\n",
        "\n",
        "print(len(phrase))\n",
        "print(phrase.startswith(\"@\", 14))\n",
        "print(phrase.endswith(\".\", 15, 24))"
      ]
    }
  ],
  "metadata": {
    "colab": {
      "provenance": []
    },
    "kernelspec": {
      "display_name": "Python 3.10.7 64-bit",
      "language": "python",
      "name": "python3"
    },
    "language_info": {
      "codemirror_mode": {
        "name": "ipython",
        "version": 3
      },
      "file_extension": ".py",
      "mimetype": "text/x-python",
      "name": "python",
      "nbconvert_exporter": "python",
      "pygments_lexer": "ipython3",
      "version": "3.10.7"
    },
    "vscode": {
      "interpreter": {
        "hash": "aee8b7b246df8f9039afb4144a1f6fd8d2ca17a180786b69acc140d282b71a49"
      }
    }
  },
  "nbformat": 4,
  "nbformat_minor": 0
}
