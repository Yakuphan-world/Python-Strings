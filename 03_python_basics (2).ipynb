{
 "cells": [
  {
   "cell_type": "code",
   "execution_count": 1,
   "metadata": {},
   "outputs": [
    {
     "name": "stdout",
     "output_type": "stream",
     "text": [
      "26\n"
     ]
    }
   ],
   "source": [
    "num1, num2 = 81, 55\n",
    "num3 = num1 - num2\n",
    "print(num3)"
   ]
  },
  {
   "cell_type": "markdown",
   "metadata": {},
   "source": [
    "Soru: Dışarıdan girilen iki sayının farkını alan program"
   ]
  },
  {
   "cell_type": "code",
   "execution_count": 2,
   "metadata": {},
   "outputs": [
    {
     "name": "stdout",
     "output_type": "stream",
     "text": [
      "26\n"
     ]
    }
   ],
   "source": [
    "num1 = input() #num1 string \n",
    "num2 = input()\n",
    "num3 = int(num1) - int(num2)\n",
    "print(num3)"
   ]
  },
  {
   "cell_type": "code",
   "execution_count": 3,
   "metadata": {},
   "outputs": [
    {
     "name": "stdout",
     "output_type": "stream",
     "text": [
      "26\n"
     ]
    }
   ],
   "source": [
    "num1 = int(input(\"1.sayıyı gir..\")) #num1 string \n",
    "num2 = int(input(\"2.sayıyı gir\"))\n",
    "num3 = num1 - num2\n",
    "print(num3)"
   ]
  },
  {
   "cell_type": "code",
   "execution_count": 4,
   "metadata": {},
   "outputs": [
    {
     "name": "stdout",
     "output_type": "stream",
     "text": [
      "Dairenin Alanı..: 78.5\n"
     ]
    }
   ],
   "source": [
    "# Dairenin alanını hesapla\n",
    "# area = pi * r^2\n",
    "r = 5\n",
    "PI = 3.14\n",
    "area = PI*(r**2)\n",
    "print(\"Dairenin Alanı..:\", area)"
   ]
  },
  {
   "cell_type": "code",
   "execution_count": 5,
   "metadata": {},
   "outputs": [
    {
     "name": "stdout",
     "output_type": "stream",
     "text": [
      "Dairenin Alanı..: 78.53981633974483\n"
     ]
    }
   ],
   "source": [
    "# Dairenin alanını hesapla\n",
    "# area = pi * r^2\n",
    "import math \n",
    "# math modülünü programıma dahil et.\n",
    "r = 5\n",
    "area = math.pi*(r**2) # normal\n",
    "print(\"Dairenin Alanı..:\", area)"
   ]
  },
  {
   "cell_type": "code",
   "execution_count": 7,
   "metadata": {},
   "outputs": [
    {
     "name": "stdout",
     "output_type": "stream",
     "text": [
      "Dairenin Alanı..: 79\n"
     ]
    }
   ],
   "source": [
    "# Dairenin alanını hesapla\n",
    "# area = pi * r^2\n",
    "import math \n",
    "# math modülünü programıma dahil et.\n",
    "r = 5\n",
    "area = round(math.pi*(r**2)) #en yakına yuvarlar\n",
    "print(\"Dairenin Alanı..:\", area)"
   ]
  },
  {
   "cell_type": "code",
   "execution_count": 15,
   "metadata": {},
   "outputs": [
    {
     "name": "stdout",
     "output_type": "stream",
     "text": [
      "Dairenin Alanı..: 79\n"
     ]
    }
   ],
   "source": [
    "# Dairenin alanını hesapla\n",
    "# area = pi * r^2\n",
    "import math \n",
    "# math modülünü programıma dahil et.\n",
    "r = 5\n",
    "area = math.ceil(math.pi*(r**2)) #yukarı yuvarlar\n",
    "#aşağı yuvarlamak için ise math.floor kullanılır.\n",
    "print(\"Dairenin Alanı..:\", area)\n",
    "# print(\"Dairenin Alanı..:{:.2f}\".format(area))"
   ]
  },
  {
   "cell_type": "code",
   "execution_count": 14,
   "metadata": {},
   "outputs": [
    {
     "name": "stdout",
     "output_type": "stream",
     "text": [
      "Dairenin Alanı..:78.54\n"
     ]
    }
   ],
   "source": [
    "# Dairenin alanını hesapla\n",
    "# area = pi * r^2\n",
    "import math \n",
    "# math modülünü programıma dahil et.\n",
    "r = 5\n",
    "area = math.pi*(r**2)\n",
    "\n",
    "print(\"Dairenin Alanı..:{:.2f}\".format(area))"
   ]
  },
  {
   "cell_type": "code",
   "execution_count": 22,
   "metadata": {},
   "outputs": [
    {
     "name": "stdout",
     "output_type": "stream",
     "text": [
      "6.5\n",
      "4.5\n"
     ]
    }
   ],
   "source": [
    "print(4+5/2)\n",
    "print((4+5)/2)"
   ]
  },
  {
   "cell_type": "code",
   "execution_count": 20,
   "metadata": {},
   "outputs": [
    {
     "name": "stdout",
     "output_type": "stream",
     "text": [
      "1\n",
      "10.0\n"
     ]
    }
   ],
   "source": [
    "print(11%2)\n",
    "print((4*5)/2)"
   ]
  },
  {
   "cell_type": "code",
   "execution_count": 23,
   "metadata": {},
   "outputs": [
    {
     "name": "stdout",
     "output_type": "stream",
     "text": [
      "4.0\n"
     ]
    }
   ],
   "source": [
    "a = 2\n",
    "b = 8\n",
    "print((a*b)**0.5) #sqrt"
   ]
  },
  {
   "cell_type": "code",
   "execution_count": 24,
   "metadata": {},
   "outputs": [
    {
     "name": "stdout",
     "output_type": "stream",
     "text": [
      "4.0\n"
     ]
    }
   ],
   "source": [
    "import math\n",
    "a = 2\n",
    "b = 8\n",
    "print(math.sqrt(a*b)) #sqrt : karekök alır\n",
    "# / kesirli bölme (float sonuç üretir)\n",
    "# // tam bölme (int sonuç üretir.)"
   ]
  },
  {
   "cell_type": "code",
   "execution_count": 25,
   "metadata": {},
   "outputs": [
    {
     "data": {
      "text/plain": [
       "4"
      ]
     },
     "execution_count": 25,
     "metadata": {},
     "output_type": "execute_result"
    }
   ],
   "source": [
    "4**1"
   ]
  },
  {
   "cell_type": "code",
   "execution_count": 26,
   "metadata": {},
   "outputs": [
    {
     "data": {
      "text/plain": [
       "4.0"
      ]
     },
     "execution_count": 26,
     "metadata": {},
     "output_type": "execute_result"
    }
   ],
   "source": [
    "4**1.0"
   ]
  },
  {
   "cell_type": "code",
   "execution_count": 27,
   "metadata": {},
   "outputs": [
    {
     "name": "stdout",
     "output_type": "stream",
     "text": [
      "5.0\n"
     ]
    }
   ],
   "source": [
    "# hipotenüs\n",
    "a = 3\n",
    "b = 4\n",
    "c = (a**2 + b**2)**0.5 # c^2 = a^2 + b^2\n",
    "# c = (a**2+b**2)**(1/2)\n",
    "print(c)"
   ]
  },
  {
   "cell_type": "code",
   "execution_count": 28,
   "metadata": {},
   "outputs": [
    {
     "name": "stdout",
     "output_type": "stream",
     "text": [
      "5.0\n"
     ]
    }
   ],
   "source": [
    "import math\n",
    "a = 3\n",
    "b = 4\n",
    "c = math.hypot(a,b) #hipotenüs fonksiyonu\n",
    "print(c)"
   ]
  },
  {
   "cell_type": "code",
   "execution_count": 29,
   "metadata": {},
   "outputs": [
    {
     "name": "stdout",
     "output_type": "stream",
     "text": [
      "Merhaba 19\n"
     ]
    }
   ],
   "source": [
    "text = \"Merhaba\"\n",
    "number = 19 \n",
    "print(text, number)"
   ]
  },
  {
   "cell_type": "code",
   "execution_count": 30,
   "metadata": {},
   "outputs": [
    {
     "name": "stdout",
     "output_type": "stream",
     "text": [
      "Merhaba,19\n"
     ]
    }
   ],
   "source": [
    "text = \"Merhaba\"\n",
    "number = 19 \n",
    "print(text, number, sep=\",\")"
   ]
  },
  {
   "cell_type": "code",
   "execution_count": 35,
   "metadata": {},
   "outputs": [
    {
     "name": "stdout",
     "output_type": "stream",
     "text": [
      "I bought 6 kg. of apple.\n",
      "I bought 6 kg. of apple.\n",
      "I bought 6 kg. of apple.\n",
      "I bought 6 kg. of apple.\n"
     ]
    }
   ],
   "source": [
    "text1 = \"I bought\"\n",
    "text2 = \"kg. of apple.\"\n",
    "amount = 6   \n",
    "text3 = text1 + \" \" + str(amount) + \" \" + text2\n",
    "print(text3)\n",
    "print(\"I bought \" + \"6 \" + \"kg. of apple.\")\n",
    "print(text1 + \" \" + str(amount) + \" \" + text2)\n",
    "print(text1, amount, text2)\n"
   ]
  },
  {
   "cell_type": "code",
   "execution_count": 41,
   "metadata": {},
   "outputs": [
    {
     "name": "stdout",
     "output_type": "stream",
     "text": [
      "I bought\n",
      "6\n",
      "kg. of apple.\n"
     ]
    }
   ],
   "source": [
    "print(text1, amount, text2, sep=\"\\n\")"
   ]
  },
  {
   "cell_type": "code",
   "execution_count": 40,
   "metadata": {},
   "outputs": [
    {
     "name": "stdout",
     "output_type": "stream",
     "text": [
      "I bought\n",
      "6\n",
      "kg. of apple.....\n"
     ]
    }
   ],
   "source": [
    "print(text1, amount, text2, sep=\"\\n\", end=\"\") #alttaki ifade ile birleştir\n",
    "print(\"....\") "
   ]
  },
  {
   "cell_type": "code",
   "execution_count": 42,
   "metadata": {},
   "outputs": [
    {
     "name": "stdout",
     "output_type": "stream",
     "text": [
      "I bought*6*kg. of apple this morning\n",
      "I bought6kg. of apple this morning\n",
      "I bought 6 kg. of apple this morning and came to home\n"
     ]
    }
   ],
   "source": [
    "text1 = \"I bought\"\n",
    "text2 = \"kg. of apple this morning\"\n",
    "amount = 6\n",
    "print(text1, amount, text2, sep=\"*\")\n",
    "print(\"I bought\", 6, \"kg. of apple this morning\", sep=\"\")\n",
    "print(\"I bought \" + \"6 \" + text2, end=\" \")\n",
    "print(\"and came to home\")\n"
   ]
  },
  {
   "cell_type": "code",
   "execution_count": 43,
   "metadata": {},
   "outputs": [
    {
     "name": "stdout",
     "output_type": "stream",
     "text": [
      "7\n"
     ]
    }
   ],
   "source": [
    "x = 5\n",
    "x += 2  # x = x+2\n",
    "print(x)"
   ]
  },
  {
   "cell_type": "code",
   "execution_count": 44,
   "metadata": {},
   "outputs": [
    {
     "name": "stdout",
     "output_type": "stream",
     "text": [
      "3\n"
     ]
    }
   ],
   "source": [
    "x = 5\n",
    "x -= 2  # x = x-2\n",
    "print(x)"
   ]
  },
  {
   "cell_type": "code",
   "execution_count": 47,
   "metadata": {},
   "outputs": [
    {
     "name": "stdout",
     "output_type": "stream",
     "text": [
      "10 \n",
      "\n",
      "\n",
      "\n",
      "\n",
      "\n",
      "\n",
      "\n",
      "\n",
      "\n",
      "\n",
      "....\n"
     ]
    }
   ],
   "source": [
    "x = 5\n",
    "x *= 2  # x = x*2\n",
    "print(x,10*\"\\n\") # 2 satır alta geçer\n",
    "print(\"....\")"
   ]
  },
  {
   "cell_type": "code",
   "execution_count": 48,
   "metadata": {},
   "outputs": [
    {
     "name": "stdout",
     "output_type": "stream",
     "text": [
      "müdür müdür müdür \n"
     ]
    }
   ],
   "source": [
    "print(\"müdür \"* 3)\n",
    "# müdür, müdür müdür?"
   ]
  },
  {
   "cell_type": "code",
   "execution_count": 49,
   "metadata": {},
   "outputs": [
    {
     "name": "stdout",
     "output_type": "stream",
     "text": [
      "a\n"
     ]
    }
   ],
   "source": [
    "print(chr(97))"
   ]
  },
  {
   "cell_type": "code",
   "execution_count": 50,
   "metadata": {},
   "outputs": [
    {
     "name": "stdout",
     "output_type": "stream",
     "text": [
      "A\n"
     ]
    }
   ],
   "source": [
    "print(chr(65))"
   ]
  },
  {
   "cell_type": "code",
   "execution_count": 52,
   "metadata": {},
   "outputs": [
    {
     "name": "stdout",
     "output_type": "stream",
     "text": [
      "A\n"
     ]
    }
   ],
   "source": [
    "print(\"\\x41\")"
   ]
  },
  {
   "cell_type": "code",
   "execution_count": 53,
   "metadata": {},
   "outputs": [
    {
     "name": "stdout",
     "output_type": "stream",
     "text": [
      "bulent@clarusway.com\n"
     ]
    }
   ],
   "source": [
    "email1 = \"bulent@clarusway.com\"\n",
    "email2 = \"bulent\\x40clarusway.com\"\n",
    "print(email2)"
   ]
  },
  {
   "cell_type": "code",
   "execution_count": 55,
   "metadata": {},
   "outputs": [
    {
     "name": "stdout",
     "output_type": "stream",
     "text": [
      "🐕 🐈\n"
     ]
    }
   ],
   "source": [
    "print(\"\\N{dog}\", \"\\N{cat}\")"
   ]
  },
  {
   "cell_type": "code",
   "execution_count": 56,
   "metadata": {},
   "outputs": [
    {
     "name": "stdout",
     "output_type": "stream",
     "text": [
      "✌\n"
     ]
    }
   ],
   "source": [
    "el = \"\\N{Victory hand}\"\n",
    "print(el)"
   ]
  },
  {
   "cell_type": "code",
   "execution_count": 58,
   "metadata": {},
   "outputs": [
    {
     "name": "stdout",
     "output_type": "stream",
     "text": [
      "C:\\north pole\n",
      "oise_penguins.txt\n",
      "----------\n",
      "first\tsecond\tthird\n"
     ]
    }
   ],
   "source": [
    "print('C:\\\\north pole\\noise_penguins.txt')\n",
    "print('----------')\n",
    "print('first', 'second', 'third', sep='\\t')"
   ]
  },
  {
   "cell_type": "code",
   "execution_count": 61,
   "metadata": {},
   "outputs": [
    {
     "name": "stdout",
     "output_type": "stream",
     "text": [
      "we areoosting ourrotherhood\n",
      "it's essential to learn Python's libraries in IT World\n"
     ]
    }
   ],
   "source": [
    "print('we are', '\\boosting', 'our', '\\brotherhood') \n",
    "print('it\\'s essential to learn Python\\'s libraries in IT World')"
   ]
  },
  {
   "cell_type": "code",
   "execution_count": 60,
   "metadata": {},
   "outputs": [
    {
     "name": "stdout",
     "output_type": "stream",
     "text": [
      "we aroosting ourrotherhood\n",
      "it's essential to learn Python's libraries in IT World\n"
     ]
    }
   ],
   "source": [
    "print('we are', '\\b\\boosting', 'our', '\\brotherhood') \n",
    "print('it\\'s essential to learn Python\\'s libraries in IT World')"
   ]
  },
  {
   "cell_type": "code",
   "execution_count": 57,
   "metadata": {},
   "outputs": [
    {
     "name": "stdout",
     "output_type": "stream",
     "text": [
      "ali\tveli\tdeli\n"
     ]
    }
   ],
   "source": [
    "print(\"ali\", \"veli\", \"deli\", sep=\"\\t\")"
   ]
  },
  {
   "cell_type": "code",
   "execution_count": 73,
   "metadata": {},
   "outputs": [
    {
     "name": "stdout",
     "output_type": "stream",
     "text": [
      "Clarusway, Clarusway, Clarusway, \n",
      "\t Clarusway, Clarusway, Clarusway, \n",
      "\t\t Clarusway, Clarusway, Clarusway"
     ]
    }
   ],
   "source": [
    "#Task-1: Arrange the following text variable using \\n and \\t escape sequences to print the output as follows :\n",
    "#Clarusway, Clarusway, Clarusway, \n",
    "#\tClarusway, Clarusway, Clarusway, \n",
    "#\t\tClarusway, Clarusway, Clarusway\n",
    "text = \"Clarusway, Clarusway, Clarusway,\"\n",
    "print(text,\"\\n\\t\",text, \"\\n\\t\\t\", text, end=\"\\b\")"
   ]
  },
  {
   "cell_type": "code",
   "execution_count": 75,
   "metadata": {},
   "outputs": [
    {
     "name": "stdout",
     "output_type": "stream",
     "text": [
      "semih\n"
     ]
    }
   ],
   "source": [
    "a = (\"ali\" and True and -5 and \"selim\" and True and \"semih\")\n",
    "# and: hepsi True ise en sondaki döndürür\n",
    "print(a)"
   ]
  },
  {
   "cell_type": "code",
   "execution_count": 77,
   "metadata": {},
   "outputs": [
    {
     "name": "stdout",
     "output_type": "stream",
     "text": [
      "0\n"
     ]
    }
   ],
   "source": [
    "a = (0 and \"\" and False and -5 and \"selim\" and 0 and \"semih\")\n",
    "# biri False ise en baştaki False değeri döndürür\n",
    "print(a)"
   ]
  },
  {
   "cell_type": "markdown",
   "metadata": {},
   "source": [
    "Python da 0, False, \"\" (içi boş string), None harici değerler True dur."
   ]
  },
  {
   "cell_type": "code",
   "execution_count": 79,
   "metadata": {},
   "outputs": [
    {
     "name": "stdout",
     "output_type": "stream",
     "text": [
      "ali\n"
     ]
    }
   ],
   "source": [
    "a = (\"ali\" or True or -5 or \"selim\" or True or \"---\")\n",
    "# or: En az bir True değer var ise en baştaki değeri döndürür\n",
    "print(a)"
   ]
  },
  {
   "cell_type": "code",
   "execution_count": 80,
   "metadata": {},
   "outputs": [
    {
     "name": "stdout",
     "output_type": "stream",
     "text": [
      "None\n"
     ]
    }
   ],
   "source": [
    "a = (\"\" or False or 0 or None)\n",
    "# or: hepsi False ise en sondaki değeri döndürür\n",
    "print(a)"
   ]
  },
  {
   "cell_type": "code",
   "execution_count": 81,
   "metadata": {},
   "outputs": [
    {
     "data": {
      "text/plain": [
       "False"
      ]
     },
     "execution_count": 81,
     "metadata": {},
     "output_type": "execute_result"
    }
   ],
   "source": [
    "not True"
   ]
  },
  {
   "cell_type": "code",
   "execution_count": 82,
   "metadata": {},
   "outputs": [
    {
     "data": {
      "text/plain": [
       "False"
      ]
     },
     "execution_count": 82,
     "metadata": {},
     "output_type": "execute_result"
    }
   ],
   "source": [
    "not 1"
   ]
  },
  {
   "cell_type": "code",
   "execution_count": 83,
   "metadata": {},
   "outputs": [
    {
     "data": {
      "text/plain": [
       "True"
      ]
     },
     "execution_count": 83,
     "metadata": {},
     "output_type": "execute_result"
    }
   ],
   "source": [
    "not False"
   ]
  },
  {
   "cell_type": "code",
   "execution_count": 84,
   "metadata": {},
   "outputs": [
    {
     "data": {
      "text/plain": [
       "True"
      ]
     },
     "execution_count": 84,
     "metadata": {},
     "output_type": "execute_result"
    }
   ],
   "source": [
    "not []"
   ]
  },
  {
   "cell_type": "code",
   "execution_count": 85,
   "metadata": {},
   "outputs": [
    {
     "data": {
      "text/plain": [
       "3"
      ]
     },
     "execution_count": 85,
     "metadata": {},
     "output_type": "execute_result"
    }
   ],
   "source": [
    "'True' and 3"
   ]
  },
  {
   "cell_type": "code",
   "execution_count": 86,
   "metadata": {},
   "outputs": [
    {
     "name": "stdout",
     "output_type": "stream",
     "text": [
      "3\n"
     ]
    }
   ],
   "source": [
    "logic = 'True' and 3 or not [] or 0\n",
    "# 'True' and 3 or True or 0\n",
    "# 3 or True or 0\n",
    "# 3\n",
    "print(logic)"
   ]
  },
  {
   "cell_type": "code",
   "execution_count": 87,
   "metadata": {},
   "outputs": [
    {
     "name": "stdout",
     "output_type": "stream",
     "text": [
      "0\n",
      "True\n"
     ]
    }
   ],
   "source": [
    "print(1 and 0)\n",
    "print(not 0) # not her zaman True / False döndürür"
   ]
  },
  {
   "cell_type": "code",
   "execution_count": 88,
   "metadata": {},
   "outputs": [
    {
     "name": "stdout",
     "output_type": "stream",
     "text": [
      "False\n",
      "True\n",
      "False\n",
      "True\n"
     ]
    }
   ],
   "source": [
    "print(any([False, False, False]))\n",
    "#False\n",
    "print(any([False, False, True]))\n",
    "#True\n",
    "\n",
    "print(all([False, True, True]))\n",
    "#False\n",
    "print(all([True, True, True]))\n",
    "#True"
   ]
  },
  {
   "cell_type": "code",
   "execution_count": 89,
   "metadata": {},
   "outputs": [
    {
     "name": "stdout",
     "output_type": "stream",
     "text": [
      "True\n"
     ]
    }
   ],
   "source": [
    "print(all([True, \"ali\", 5]))"
   ]
  },
  {
   "cell_type": "code",
   "execution_count": 90,
   "metadata": {},
   "outputs": [
    {
     "name": "stdout",
     "output_type": "stream",
     "text": [
      "True\n"
     ]
    }
   ],
   "source": [
    "print(any([False, \"ali\", 0]))"
   ]
  },
  {
   "cell_type": "code",
   "execution_count": null,
   "metadata": {},
   "outputs": [],
   "source": [
    "# Zx = (1/√(2* π))*e(-z*z/2)\n",
    "import math\n",
    "z = 5\n",
    "Zx = (1 /math.sqrt(2*math.pi)) * math.exp(-z*z/2)"
   ]
  },
  {
   "cell_type": "code",
   "execution_count": 92,
   "metadata": {},
   "outputs": [
    {
     "name": "stdout",
     "output_type": "stream",
     "text": [
      "21\n"
     ]
    }
   ],
   "source": [
    "print(0x15) # hex sayı"
   ]
  },
  {
   "cell_type": "code",
   "execution_count": 94,
   "metadata": {},
   "outputs": [
    {
     "name": "stdout",
     "output_type": "stream",
     "text": [
      "a\n",
      "97\n"
     ]
    }
   ],
   "source": [
    "print(\"\\x61\")   # ascii hex tablosundaki karakteri verdi.\n",
    "print(0x61)     # hex'ten decimal(onlu sayıya dönüştü)\n",
    "                #veya ascii hex tablosunun decimal(onlu) karşılığını verdi.."
   ]
  },
  {
   "cell_type": "code",
   "execution_count": 1,
   "metadata": {},
   "outputs": [
    {
     "name": "stdout",
     "output_type": "stream",
     "text": [
      "28\n",
      "True\n",
      "False\n"
     ]
    }
   ],
   "source": [
    "phrase = \"myemailaddress@clarusway.com\"\n",
    "\n",
    "print(len(phrase))\n",
    "print(phrase.startswith(\"@\", 14))\n",
    "print(phrase.endswith(\".\", 15, 24))"
   ]
  }
 ],
 "metadata": {
  "kernelspec": {
   "display_name": "Python 3.10.7 64-bit",
   "language": "python",
   "name": "python3"
  },
  "language_info": {
   "codemirror_mode": {
    "name": "ipython",
    "version": 3
   },
   "file_extension": ".py",
   "mimetype": "text/x-python",
   "name": "python",
   "nbconvert_exporter": "python",
   "pygments_lexer": "ipython3",
   "version": "3.10.7"
  },
  "orig_nbformat": 4,
  "vscode": {
   "interpreter": {
    "hash": "aee8b7b246df8f9039afb4144a1f6fd8d2ca17a180786b69acc140d282b71a49"
   }
  }
 },
 "nbformat": 4,
 "nbformat_minor": 2
}
